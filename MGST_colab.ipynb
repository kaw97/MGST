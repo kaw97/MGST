{
 "cells": [
  {
   "cell_type": "markdown",
   "metadata": {},
   "source": [
    "# MGST - Mikunn Galactic Search Tool\n",
    "## Elite Dangerous Galaxy Search on Google Colab\n",
    "\n",
    "This notebook allows you to run MGST searches using a galaxy database hosted on Google Drive.\n",
    "\n",
    "**Repository:** https://github.com/kaw97/MGST\n",
    "\n",
    "**Database:** Download from https://drive.google.com/drive/folders/1m4Fl14xxaEm5rY9uoo9w9BKsAj7gHq_a"
   ]
  },
  {
   "cell_type": "markdown",
   "metadata": {},
   "source": [
    "## 1. Setup: Install MGST and Dependencies"
   ]
  },
  {
   "cell_type": "code",
   "execution_count": null,
   "metadata": {},
   "outputs": [],
   "source": "# Install MGST from GitHub\n# Using --no-cache-dir to ensure fresh install\n!pip install --no-cache-dir git+https://github.com/kaw97/MGST.git\n\n# Verify installation\nimport sys\ntry:\n    import mgst\n    print(f\"\\n✓ MGST installed successfully\")\n    print(f\"  Version: {mgst.__version__ if hasattr(mgst, '__version__') else 'dev'}\")\n    print(f\"  Location: {mgst.__file__}\")\n    \n    # Verify submodules\n    import mgst.cli\n    import mgst.core\n    import mgst.data\n    print(f\"  ✓ All submodules loaded\")\n    \n    # Test the CLI\n    print(f\"\\nCLI Help:\")\n    !mgst --help\nexcept ImportError as e:\n    print(f\"\\n✗ Installation failed: {e}\")\n    print(f\"\\nTroubleshooting:\")\n    print(f\"  1. Try restarting the runtime (Runtime > Restart runtime)\")\n    print(f\"  2. Then run this cell again\")\n    sys.exit(1)"
  },
  {
   "cell_type": "markdown",
   "metadata": {},
   "source": [
    "## 2. Mount Google Drive\n",
    "\n",
    "Mount your Google Drive to access the galaxy database files."
   ]
  },
  {
   "cell_type": "code",
   "execution_count": null,
   "metadata": {},
   "outputs": [],
   "source": [
    "from google.colab import drive\n",
    "import os\n",
    "\n",
    "# Mount Google Drive\n",
    "drive.mount('/content/drive')\n",
    "\n",
    "# Set the path to your database directory\n",
    "# MODIFY THIS PATH to point to your database folder in Google Drive\n",
    "DATABASE_PATH = '/content/drive/MyDrive/galaxy_sectors_compressed'\n",
    "\n",
    "# Verify database exists\n",
    "if os.path.exists(DATABASE_PATH):\n",
    "    print(f\"✓ Database found at: {DATABASE_PATH}\")\n",
    "    # List a few sector files\n",
    "    sectors = [f for f in os.listdir(DATABASE_PATH) if f.endswith('.jsonl.gz')][:5]\n",
    "    print(f\"\\nSample sectors found: {len(sectors)}\")\n",
    "    for sector in sectors:\n",
    "        print(f\"  - {sector}\")\n",
    "else:\n",
    "    print(f\"⚠ Database not found at: {DATABASE_PATH}\")\n",
    "    print(\"\\nPlease update DATABASE_PATH to point to your galaxy database folder.\")\n",
    "    print(\"\\nExample paths:\")\n",
    "    print(\"  /content/drive/MyDrive/galaxy_sectors_compressed\")\n",
    "    print(\"  /content/drive/MyDrive/MGST/galaxy_sectors\")"
   ]
  },
  {
   "cell_type": "markdown",
   "metadata": {},
   "source": [
    "## 3. Create Output Directory"
   ]
  },
  {
   "cell_type": "code",
   "execution_count": null,
   "metadata": {},
   "outputs": [],
   "source": [
    "# Create output directory\n",
    "OUTPUT_DIR = '/content/mgst_results'\n",
    "os.makedirs(OUTPUT_DIR, exist_ok=True)\n",
    "print(f\"Output directory: {OUTPUT_DIR}\")"
   ]
  },
  {
   "cell_type": "markdown",
   "metadata": {},
   "source": [
    "## 4. Create Search Patterns\n",
    "\n",
    "Define your search patterns as JSON files."
   ]
  },
  {
   "cell_type": "code",
   "execution_count": null,
   "metadata": {},
   "outputs": [],
   "source": [
    "import json\n",
    "\n",
    "# Create patterns directory\n",
    "PATTERNS_DIR = '/content/patterns'\n",
    "os.makedirs(PATTERNS_DIR, exist_ok=True)\n",
    "\n",
    "# Example 1: Supply Hub Pattern (ELW/Water World with rocky moon)\n",
    "supply_hub_pattern = {\n",
    "    \"description\": \"Supply Hub Candidates - ELW or Water World with rocky moon\",\n",
    "    \"name\": \"*\",\n",
    "    \"bodies\": [\n",
    "        {\n",
    "            \"comment\": \"Match ELW or Water World (the parent planet)\",\n",
    "            \"subType\": [\"Earth-like world\", \"Water world\"]\n",
    "        },\n",
    "        {\n",
    "            \"comment\": \"Match rocky moon orbiting the ELW/Water World\",\n",
    "            \"subType\": \"Rocky body\",\n",
    "            \"parents\": [{\"Planet\": \"*\"}]\n",
    "        }\n",
    "    ]\n",
    "}\n",
    "\n",
    "# Save supply hub pattern\n",
    "with open(f'{PATTERNS_DIR}/supply_hub.json', 'w') as f:\n",
    "    json.dump(supply_hub_pattern, f, indent=2)\n",
    "\n",
    "# Example 2: All Systems Pattern (for testing)\n",
    "all_systems_pattern = {\n",
    "    \"description\": \"Match all systems\",\n",
    "    \"name\": \"*\"\n",
    "}\n",
    "\n",
    "with open(f'{PATTERNS_DIR}/all_systems.json', 'w') as f:\n",
    "    json.dump(all_systems_pattern, f, indent=2)\n",
    "\n",
    "# Example 3: Interesting Systems (high-value exploration)\n",
    "interesting_pattern = {\n",
    "    \"description\": \"High-value exploration targets\",\n",
    "    \"name\": \"*\",\n",
    "    \"bodies\": [\n",
    "        {\n",
    "            \"comment\": \"Earth-like worlds\",\n",
    "            \"subType\": \"Earth-like world\"\n",
    "        }\n",
    "    ]\n",
    "}\n",
    "\n",
    "with open(f'{PATTERNS_DIR}/interesting_systems.json', 'w') as f:\n",
    "    json.dump(interesting_pattern, f, indent=2)\n",
    "\n",
    "print(\"✓ Pattern files created:\")\n",
    "for pattern in os.listdir(PATTERNS_DIR):\n",
    "    print(f\"  - {pattern}\")"
   ]
  },
  {
   "cell_type": "markdown",
   "metadata": {},
   "source": [
    "## 5. Run Searches\n",
    "\n",
    "Now you can run different types of searches. Choose the search mode that fits your needs."
   ]
  },
  {
   "cell_type": "markdown",
   "metadata": {},
   "source": [
    "### 5.1 Corridor Search\n",
    "\n",
    "Search for systems along a corridor between two coordinates."
   ]
  },
  {
   "cell_type": "code",
   "execution_count": null,
   "metadata": {},
   "outputs": [],
   "source": [
    "# Corridor Search Example\n",
    "# Modify these parameters for your search\n",
    "\n",
    "START_COORDS = \"0,0,0\"  # Starting coordinates (X,Y,Z)\n",
    "END_COORDS = \"1000,0,0\"  # Ending coordinates (X,Y,Z)\n",
    "RADIUS = 500  # Corridor radius in light years\n",
    "PATTERN_FILE = f\"{PATTERNS_DIR}/supply_hub.json\"\n",
    "OUTPUT_FILE = f\"{OUTPUT_DIR}/corridor_search.jsonl\"\n",
    "WORKERS = 4  # Number of parallel workers (adjust based on your needs)\n",
    "\n",
    "!mgst filter \\\n",
    "    --mode corridor \\\n",
    "    --start \"{START_COORDS}\" \\\n",
    "    --end \"{END_COORDS}\" \\\n",
    "    --radius {RADIUS} \\\n",
    "    --pattern-file \"{PATTERN_FILE}\" \\\n",
    "    --database \"{DATABASE_PATH}\" \\\n",
    "    --output \"{OUTPUT_FILE}\" \\\n",
    "    --workers {WORKERS}"
   ]
  },
  {
   "cell_type": "markdown",
   "metadata": {},
   "source": [
    "### 5.2 Sector Search\n",
    "\n",
    "Search for systems within specific sectors."
   ]
  },
  {
   "cell_type": "code",
   "execution_count": null,
   "metadata": {},
   "outputs": [],
   "source": [
    "# Sector Search Example\n",
    "# Modify these parameters for your search\n",
    "\n",
    "SECTORS = \"Lagoon_Sector,Trifid_Sector\"  # Comma-separated sector names\n",
    "PATTERN_FILE = f\"{PATTERNS_DIR}/interesting_systems.json\"\n",
    "OUTPUT_FILE = f\"{OUTPUT_DIR}/sector_search.tsv\"\n",
    "WORKERS = 4\n",
    "\n",
    "!mgst filter \\\n",
    "    --mode sectors \\\n",
    "    --sectors \"{SECTORS}\" \\\n",
    "    --pattern-file \"{PATTERN_FILE}\" \\\n",
    "    --database \"{DATABASE_PATH}\" \\\n",
    "    --output \"{OUTPUT_FILE}\" \\\n",
    "    --workers {WORKERS} \\\n",
    "    --format tsv"
   ]
  },
  {
   "cell_type": "markdown",
   "metadata": {},
   "source": [
    "### 5.3 Galaxy-Wide Search\n",
    "\n",
    "Search the entire galaxy (WARNING: This can take a very long time!)"
   ]
  },
  {
   "cell_type": "code",
   "execution_count": null,
   "metadata": {},
   "outputs": [],
   "source": [
    "# Galaxy Search Example (use with caution - very resource intensive)\n",
    "# Uncomment to run\n",
    "\n",
    "# PATTERN_FILE = f\"{PATTERNS_DIR}/supply_hub.json\"\n",
    "# OUTPUT_FILE = f\"{OUTPUT_DIR}/galaxy_search.jsonl\"\n",
    "# WORKERS = 4\n",
    "\n",
    "# !mgst filter \\\n",
    "#     --mode galaxy \\\n",
    "#     --pattern-file \"{PATTERN_FILE}\" \\\n",
    "#     --database \"{DATABASE_PATH}\" \\\n",
    "#     --output \"{OUTPUT_FILE}\" \\\n",
    "#     --workers {WORKERS}"
   ]
  },
  {
   "cell_type": "markdown",
   "metadata": {},
   "source": [
    "### 5.4 Dry Run (Test Before Executing)\n",
    "\n",
    "See what would be searched without actually running the search."
   ]
  },
  {
   "cell_type": "code",
   "execution_count": null,
   "metadata": {},
   "outputs": [],
   "source": [
    "# Dry run to test your search parameters\n",
    "!mgst filter \\\n",
    "    --mode corridor \\\n",
    "    --start \"0,0,0\" \\\n",
    "    --end \"1000,0,0\" \\\n",
    "    --radius 100 \\\n",
    "    --pattern-file \"{PATTERNS_DIR}/all_systems.json\" \\\n",
    "    --database \"{DATABASE_PATH}\" \\\n",
    "    --dry-run"
   ]
  },
  {
   "cell_type": "markdown",
   "metadata": {},
   "source": [
    "## 6. View Results\n",
    "\n",
    "Load and display search results."
   ]
  },
  {
   "cell_type": "code",
   "execution_count": null,
   "metadata": {},
   "outputs": [],
   "source": [
    "import pandas as pd\n",
    "import json\n",
    "\n",
    "# Function to load JSONL results\n",
    "def load_jsonl_results(filepath):\n",
    "    \"\"\"Load results from JSONL file\"\"\"\n",
    "    if not os.path.exists(filepath):\n",
    "        print(f\"File not found: {filepath}\")\n",
    "        return None\n",
    "    \n",
    "    results = []\n",
    "    with open(filepath, 'r') as f:\n",
    "        for line in f:\n",
    "            results.append(json.loads(line))\n",
    "    \n",
    "    return pd.DataFrame(results)\n",
    "\n",
    "# Function to load TSV results\n",
    "def load_tsv_results(filepath):\n",
    "    \"\"\"Load results from TSV file\"\"\"\n",
    "    if not os.path.exists(filepath):\n",
    "        print(f\"File not found: {filepath}\")\n",
    "        return None\n",
    "    \n",
    "    return pd.read_csv(filepath, sep='\\t')\n",
    "\n",
    "# Example: Load and display results\n",
    "# Modify the filename to match your output\n",
    "results_file = f\"{OUTPUT_DIR}/corridor_search.jsonl\"\n",
    "\n",
    "if os.path.exists(results_file):\n",
    "    if results_file.endswith('.jsonl'):\n",
    "        df = load_jsonl_results(results_file)\n",
    "    else:\n",
    "        df = load_tsv_results(results_file)\n",
    "    \n",
    "    if df is not None:\n",
    "        print(f\"Found {len(df)} matching systems\\n\")\n",
    "        print(\"First 5 results:\")\n",
    "        display(df.head())\n",
    "else:\n",
    "    print(f\"No results file found. Run a search first!\")"
   ]
  },
  {
   "cell_type": "markdown",
   "metadata": {},
   "source": [
    "## 7. Download Results\n",
    "\n",
    "Download results to your local machine or save to Google Drive."
   ]
  },
  {
   "cell_type": "code",
   "execution_count": null,
   "metadata": {},
   "outputs": [],
   "source": [
    "from google.colab import files\n",
    "import shutil\n",
    "\n",
    "# Option 1: Download to local machine\n",
    "def download_results(filepath):\n",
    "    \"\"\"Download a file to local machine\"\"\"\n",
    "    if os.path.exists(filepath):\n",
    "        files.download(filepath)\n",
    "        print(f\"Downloaded: {filepath}\")\n",
    "    else:\n",
    "        print(f\"File not found: {filepath}\")\n",
    "\n",
    "# Download the results file\n",
    "# download_results(f\"{OUTPUT_DIR}/corridor_search.jsonl\")\n",
    "\n",
    "# Option 2: Copy results to Google Drive for persistence\n",
    "def save_to_drive(source_dir, drive_destination):\n",
    "    \"\"\"Copy results directory to Google Drive\"\"\"\n",
    "    if os.path.exists(source_dir):\n",
    "        os.makedirs(os.path.dirname(drive_destination), exist_ok=True)\n",
    "        shutil.copytree(source_dir, drive_destination, dirs_exist_ok=True)\n",
    "        print(f\"Saved results to: {drive_destination}\")\n",
    "    else:\n",
    "        print(f\"Source directory not found: {source_dir}\")\n",
    "\n",
    "# Save all results to Google Drive\n",
    "# save_to_drive(OUTPUT_DIR, '/content/drive/MyDrive/MGST_Results')\n",
    "\n",
    "print(\"Use the functions above to download or save your results.\")"
   ]
  },
  {
   "cell_type": "markdown",
   "metadata": {},
   "source": [
    "## 8. Custom Pattern Creator\n",
    "\n",
    "Create your own custom search patterns interactively."
   ]
  },
  {
   "cell_type": "code",
   "execution_count": null,
   "metadata": {},
   "outputs": [],
   "source": [
    "# Create a custom pattern\n",
    "def create_custom_pattern(description, name=\"*\", bodies=None):\n",
    "    \"\"\"Helper function to create custom search patterns\"\"\"\n",
    "    pattern = {\n",
    "        \"description\": description,\n",
    "        \"name\": name\n",
    "    }\n",
    "    \n",
    "    if bodies:\n",
    "        pattern[\"bodies\"] = bodies\n",
    "    \n",
    "    return pattern\n",
    "\n",
    "# Example: Create a pattern for ammonia worlds with rings\n",
    "ammonia_rings_pattern = create_custom_pattern(\n",
    "    description=\"Ammonia worlds with ring systems\",\n",
    "    bodies=[\n",
    "        {\n",
    "            \"comment\": \"Ammonia world\",\n",
    "            \"subType\": \"Ammonia world\"\n",
    "        },\n",
    "        {\n",
    "            \"comment\": \"Has rings\",\n",
    "            \"type\": \"Ring\"\n",
    "        }\n",
    "    ]\n",
    ")\n",
    "\n",
    "# Save custom pattern\n",
    "pattern_name = \"ammonia_rings\"\n",
    "with open(f'{PATTERNS_DIR}/{pattern_name}.json', 'w') as f:\n",
    "    json.dump(ammonia_rings_pattern, f, indent=2)\n",
    "\n",
    "print(f\"Created custom pattern: {pattern_name}.json\")\n",
    "print(json.dumps(ammonia_rings_pattern, indent=2))"
   ]
  },
  {
   "cell_type": "markdown",
   "metadata": {},
   "source": [
    "## 9. Common Search Recipes\n",
    "\n",
    "Pre-configured searches for common use cases."
   ]
  },
  {
   "cell_type": "code",
   "execution_count": null,
   "metadata": {},
   "outputs": [],
   "source": [
    "# Recipe 1: Find colonization candidates near Sol\n",
    "print(\"Recipe 1: Colonization candidates near Sol\")\n",
    "print(\"Searching for Earth-like worlds within 500 LY of Sol...\\n\")\n",
    "\n",
    "# !mgst filter \\\n",
    "#     --mode corridor \\\n",
    "#     --start \"0,0,0\" \\\n",
    "#     --end \"0,0,0\" \\\n",
    "#     --radius 500 \\\n",
    "#     --pattern-file \"{PATTERNS_DIR}/interesting_systems.json\" \\\n",
    "#     --database \"{DATABASE_PATH}\" \\\n",
    "#     --output \"{OUTPUT_DIR}/colonization_candidates.jsonl\" \\\n",
    "#     --workers 4\n",
    "\n",
    "# Recipe 2: Route planning between two stations\n",
    "print(\"\\nRecipe 2: Route planning (example coordinates)\")\n",
    "print(\"Finding supply hubs along travel route...\\n\")\n",
    "\n",
    "# !mgst filter \\\n",
    "#     --mode corridor \\\n",
    "#     --start \"-468,-92,4474\" \\\n",
    "#     --end \"-575,-37,5142\" \\\n",
    "#     --radius 500 \\\n",
    "#     --pattern-file \"{PATTERNS_DIR}/supply_hub.json\" \\\n",
    "#     --database \"{DATABASE_PATH}\" \\\n",
    "#     --output \"{OUTPUT_DIR}/route_supply_hubs.jsonl\" \\\n",
    "#     --workers 4\n",
    "\n",
    "print(\"Uncomment the commands above to run these recipes.\")"
   ]
  },
  {
   "cell_type": "markdown",
   "metadata": {},
   "source": [
    "## Tips and Notes\n",
    "\n",
    "1. **Database Location**: Make sure your database path points to the correct folder containing `.jsonl.gz` files\n",
    "2. **Performance**: Adjust `--workers` based on available resources (Google Colab has limitations)\n",
    "3. **Output Formats**: Use `--format tsv` for spreadsheet-compatible output, or `jsonl` for structured data\n",
    "4. **Logs**: Each search automatically creates comprehensive logs in subdirectories\n",
    "5. **Memory**: Galaxy-wide searches are very memory intensive - use corridor or sector searches when possible\n",
    "6. **Pattern Files**: See the repository's `patterns/` directory for more examples\n",
    "7. **Coordinates**: Use EDSM or Spansh to get system coordinates for corridor searches\n",
    "\n",
    "## Resources\n",
    "\n",
    "- **GitHub Repository**: https://github.com/kaw97/MGST\n",
    "- **Database Download**: https://drive.google.com/drive/folders/1m4Fl14xxaEm5rY9uoo9w9BKsAj7gHq_a\n",
    "- **EDSM**: https://www.edsm.net/ (for system coordinates)\n",
    "- **Spansh**: https://spansh.co.uk/ (for galaxy data and route planning)"
   ]
  }
 ],
 "metadata": {
  "kernelspec": {
   "display_name": "Python 3",
   "language": "python",
   "name": "python3"
  },
  "language_info": {
   "codemirror_mode": {
    "name": "ipython",
    "version": 3
   },
   "file_extension": ".py",
   "mimetype": "text/x-python",
   "name": "python",
   "nbconvert_exporter": "python",
   "pygments_lexer": "ipython3",
   "version": "3.8.0"
  }
 },
 "nbformat": 4,
 "nbformat_minor": 4
}